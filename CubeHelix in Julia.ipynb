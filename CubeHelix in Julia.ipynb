{
 "cells": [
  {
   "cell_type": "markdown",
   "metadata": {},
   "source": [
    "From https://www.mrao.cam.ac.uk/~dag/CUBEHELIX/"
   ]
  },
  {
   "cell_type": "code",
   "execution_count": 1,
   "metadata": {
    "collapsed": false
   },
   "outputs": [
    {
     "data": {
      "text/html": [
       "<script charset=\"utf-8\">(function ($, undefined) {\n",
       "\n",
       "    function createElem(tag, attr, content) {\n",
       "\t// TODO: remove jQuery dependency\n",
       "\tvar el = $(\"<\" + tag + \"/>\").attr(attr);\n",
       "\tif (content) {\n",
       "\t    el.append(content);\n",
       "\t}\n",
       "\treturn el[0];\n",
       "    }\n",
       "\n",
       "    // A widget must expose an id field which identifies it to the backend,\n",
       "    // an elem attribute which is will be added to the DOM, and\n",
       "    // a getState() method which returns the value to be sent to the backend\n",
       "    // a sendUpdate() method which sends its current value to the backend\n",
       "    var Widget = {\n",
       "\tid: undefined,\n",
       "\telem: undefined,\n",
       "\tlabel: undefined,\n",
       "\tgetState: function () {\n",
       "\t    return this.elem.value;\n",
       "\t},\n",
       "\tsendUpdate: undefined\n",
       "    };\n",
       "\n",
       "    var Slider = function (typ, id, init) {\n",
       "\tvar attr = { type:  \"range\",\n",
       "\t\t     value: init.value,\n",
       "\t\t     min:   init.min,\n",
       "\t\t     max:   init.max,\n",
       "\t\t     step:  init.step },\n",
       "\t    elem = createElem(\"input\", attr),\n",
       "\t    self = this;\n",
       "\n",
       "\telem.onchange = function () {\n",
       "\t    self.sendUpdate();\n",
       "\t}\n",
       "\n",
       "\tthis.id = id;\n",
       "\tthis.elem = elem;\n",
       "\tthis.label = init.label;\n",
       "\n",
       "\tInputWidgets.commInitializer(this); // Initialize communication\n",
       "    }\n",
       "    Slider.prototype = Widget;\n",
       "\n",
       "    var Checkbox = function (typ, id, init) {\n",
       "\tvar attr = { type: \"checkbox\",\n",
       "\t\t     checked: init.value },\n",
       "\t    elem = createElem(\"input\", attr),\n",
       "\t    self = this;\n",
       "\n",
       "\tthis.getState = function () {\n",
       "\t    return elem.checked;\n",
       "\t}\n",
       "\telem.onchange = function () {\n",
       "\t    self.sendUpdate();\n",
       "\t}\n",
       "\n",
       "\tthis.id = id;\n",
       "\tthis.elem = elem;\n",
       "\tthis.label = init.label;\n",
       "\n",
       "\tInputWidgets.commInitializer(this);\n",
       "    }\n",
       "    Checkbox.prototype = Widget;\n",
       "\n",
       "    var Button = function (typ, id, init) {\n",
       "\tvar attr = { type:    \"button\",\n",
       "\t\t     value:   init.label },\n",
       "\t    elem = createElem(\"input\", attr),\n",
       "\t    self = this;\n",
       "\tthis.getState = function () {\n",
       "\t    return null;\n",
       "\t}\n",
       "\telem.onclick = function () {\n",
       "\t    self.sendUpdate();\n",
       "\t}\n",
       "\n",
       "\tthis.id = id;\n",
       "\tthis.elem = elem;\n",
       "\tthis.label = init.label;\n",
       "\n",
       "\tInputWidgets.commInitializer(this);\n",
       "    }\n",
       "    Button.prototype = Widget;\n",
       "\n",
       "    var Text = function (typ, id, init) {\n",
       "\tvar attr = { type:  \"text\",\n",
       "\t\t     placeholder: init.label,\n",
       "\t\t     value: init.value },\n",
       "\t    elem = createElem(\"input\", attr),\n",
       "\t    self = this;\n",
       "\tthis.getState = function () {\n",
       "\t    return elem.value;\n",
       "\t}\n",
       "\telem.onkeyup = function () {\n",
       "\t    self.sendUpdate();\n",
       "\t}\n",
       "\n",
       "\tthis.id = id;\n",
       "\tthis.elem = elem;\n",
       "\tthis.label = init.label;\n",
       "\n",
       "\tInputWidgets.commInitializer(this);\n",
       "    }\n",
       "    Text.prototype = Widget;\n",
       "\n",
       "    var Textarea = function (typ, id, init) {\n",
       "\tvar attr = { placeholder: init.label },\n",
       "\t    elem = createElem(\"textarea\", attr, init.value),\n",
       "\t    self = this;\n",
       "\tthis.getState = function () {\n",
       "\t    return elem.value;\n",
       "\t}\n",
       "\telem.onchange = function () {\n",
       "\t    self.sendUpdate();\n",
       "\t}\n",
       "\n",
       "\tthis.id = id;\n",
       "\tthis.elem = elem;\n",
       "\tthis.label = init.label;\n",
       "\n",
       "\tInputWidgets.commInitializer(this);\n",
       "    }\n",
       "    Textarea.prototype = Widget;\n",
       "\n",
       "    // RadioButtons\n",
       "    // Dropdown\n",
       "    // HTML\n",
       "    // Latex\n",
       "\n",
       "    var InputWidgets = {\n",
       "\tSlider: Slider,\n",
       "\tCheckbox: Checkbox,\n",
       "\tButton: Button,\n",
       "\tText: Text,\n",
       "\tTextarea: Textarea,\n",
       "\tdebug: false,\n",
       "\tlog: function () {\n",
       "\t    if (InputWidgets.debug) {\n",
       "\t\tconsole.log.apply(console, arguments);\n",
       "\t    }\n",
       "\t},\n",
       "\t// a central way to initalize communication\n",
       "\t// for widgets.\n",
       "\tcommInitializer: function (widget) {\n",
       "\t    widget.sendUpdate = function () {};\n",
       "\t}\n",
       "    };\n",
       "\n",
       "    window.InputWidgets = InputWidgets;\n",
       "\n",
       "})(jQuery, undefined);\n",
       "</script>"
      ]
     },
     "metadata": {},
     "output_type": "display_data"
    },
    {
     "data": {
      "text/html": [
       "<div id=\"interact-js-shim\">\n",
       "    <script charset=\"utf-8\">\n",
       "(function (IPython, $, _, MathJax, Widgets) {\n",
       "    $.event.special.destroyed = {\n",
       "\tremove: function(o) {\n",
       "\t    if (o.handler) {\n",
       "\t\to.handler.apply(this, arguments)\n",
       "\t    }\n",
       "\t}\n",
       "    }\n",
       "\n",
       "    var OutputArea = IPython.version >= \"4.0.0\" ? require(\"notebook/js/outputarea\").OutputArea : IPython.OutputArea;\n",
       "\n",
       "    var redrawValue = function (container, type, val) {\n",
       "\tvar selector = $(\"<div/>\");\n",
       "\tvar oa = new OutputArea(_.extend(selector, {\n",
       "\t    selector: selector,\n",
       "\t    prompt_area: true,\n",
       "\t    events: IPython.events,\n",
       "\t    keyboard_manager: IPython.keyboard_manager\n",
       "\t})); // Hack to work with IPython 2.1.0\n",
       "\n",
       "\tswitch (type) {\n",
       "\tcase \"image/png\":\n",
       "            var _src = 'data:' + type + ';base64,' + val;\n",
       "\t    $(container).find(\"img\").attr('src', _src);\n",
       "\t    break;\n",
       "\tdefault:\n",
       "\t    var toinsert = OutputArea.append_map[type].apply(\n",
       "\t\toa, [val, {}, selector]\n",
       "\t    );\n",
       "\t    $(container).empty().append(toinsert.contents());\n",
       "\t    selector.remove();\n",
       "\t}\n",
       "\tif (type === \"text/latex\" && MathJax) {\n",
       "\t    MathJax.Hub.Queue([\"Typeset\", MathJax.Hub, toinsert.get(0)]);\n",
       "\t}\n",
       "    }\n",
       "\n",
       "\n",
       "    $(document).ready(function() {\n",
       "\tWidgets.debug = false; // log messages etc in console.\n",
       "\tfunction initComm(evt, data) {\n",
       "\t    var comm_manager = data.kernel.comm_manager;\n",
       "        //_.extend(comm_manager.targets, require(\"widgets/js/widget\"))\n",
       "\t    comm_manager.register_target(\"Signal\", function (comm) {\n",
       "            comm.on_msg(function (msg) {\n",
       "                //Widgets.log(\"message received\", msg);\n",
       "                var val = msg.content.data.value;\n",
       "                $(\".signal-\" + comm.comm_id).each(function() {\n",
       "                var type = $(this).data(\"type\");\n",
       "                if (val[type]) {\n",
       "                    redrawValue(this, type, val[type], type);\n",
       "                }\n",
       "                });\n",
       "                delete val;\n",
       "                delete msg.content.data.value;\n",
       "            });\n",
       "\t    });\n",
       "\n",
       "\t    // coordingate with Comm and redraw Signals\n",
       "\t    // XXX: Test using Reactive here to improve performance\n",
       "\t    $([IPython.events]).on(\n",
       "\t\t'output_appended.OutputArea', function (event, type, value, md, toinsert) {\n",
       "\t\t    if (md && md.reactive) {\n",
       "                // console.log(md.comm_id);\n",
       "                toinsert.addClass(\"signal-\" + md.comm_id);\n",
       "                toinsert.data(\"type\", type);\n",
       "                // Signal back indicating the mimetype required\n",
       "                var comm_manager = IPython.notebook.kernel.comm_manager;\n",
       "                var comm = comm_manager.comms[md.comm_id];\n",
       "                comm.then(function (c) {\n",
       "                    c.send({action: \"subscribe_mime\",\n",
       "                       mime: type});\n",
       "                    toinsert.bind(\"destroyed\", function() {\n",
       "                        c.send({action: \"unsubscribe_mime\",\n",
       "                               mime: type});\n",
       "                    });\n",
       "                })\n",
       "\t\t    }\n",
       "\t    });\n",
       "\t}\n",
       "\n",
       "\ttry {\n",
       "\t    // try to initialize right away. otherwise, wait on the status_started event.\n",
       "\t    initComm(undefined, IPython.notebook);\n",
       "\t} catch (e) {\n",
       "\t    $([IPython.events]).on('kernel_created.Kernel kernel_created.Session', initComm);\n",
       "\t}\n",
       "    });\n",
       "})(IPython, jQuery, _, MathJax, InputWidgets);\n",
       "</script>\n",
       "    <script>\n",
       "        window.interactLoadedFlag = true\n",
       "       $(\"#interact-js-shim\").bind(\"destroyed\", function () {\n",
       "           if (window.interactLoadedFlag) {\n",
       "               console.warn(\"JavaScript required by Interact will be removed if you remove this cell or run using Interact more than once.\")\n",
       "           }\n",
       "       })\n",
       "       $([IPython.events]).on(\"kernel_starting.Kernel kernel_restarting.Kernel\", function () { window.interactLoadedFlag = false })\n",
       "   </script>\n",
       "</div>"
      ]
     },
     "metadata": {},
     "output_type": "display_data"
    }
   ],
   "source": [
    "using Colors\n",
    "using Interact"
   ]
  },
  {
   "cell_type": "code",
   "execution_count": 2,
   "metadata": {
    "collapsed": false
   },
   "outputs": [
    {
     "data": {
      "image/svg+xml": [
       "<?xml version=\"1.0\" encoding=\"UTF-8\"?>\n",
       "<!DOCTYPE svg PUBLIC \"-//W3C//DTD SVG 1.1//EN\"\n",
       " \"http://www.w3.org/Graphics/SVG/1.1/DTD/svg11.dtd\">\n",
       "<svg xmlns=\"http://www.w3.org/2000/svg\" version=\"1.1\"\n",
       "     width=\"250.0mm\" height=\"25.0mm\"\n",
       "     shape-rendering=\"crispEdges\">\n",
       "<rect x=\"0.0mm\" y=\"0.0mm\"\n",
       "      width=\"2.5mm\" height=\"25.0mm\"\n",
       "      fill=\"#000000\" stroke=\"none\" />\n",
       "<rect x=\"2.5mm\" y=\"0.0mm\"\n",
       "      width=\"2.5mm\" height=\"25.0mm\"\n",
       "      fill=\"#040104\" stroke=\"none\" />\n",
       "<rect x=\"5.0mm\" y=\"0.0mm\"\n",
       "      width=\"2.5mm\" height=\"25.0mm\"\n",
       "      fill=\"#080308\" stroke=\"none\" />\n",
       "<rect x=\"7.5mm\" y=\"0.0mm\"\n",
       "      width=\"2.5mm\" height=\"25.0mm\"\n",
       "      fill=\"#0C050D\" stroke=\"none\" />\n",
       "<rect x=\"10.0mm\" y=\"0.0mm\"\n",
       "      width=\"2.5mm\" height=\"25.0mm\"\n",
       "      fill=\"#0F0612\" stroke=\"none\" />\n",
       "<rect x=\"12.5mm\" y=\"0.0mm\"\n",
       "      width=\"2.5mm\" height=\"25.0mm\"\n",
       "      fill=\"#120817\" stroke=\"none\" />\n",
       "<rect x=\"15.0mm\" y=\"0.0mm\"\n",
       "      width=\"2.5mm\" height=\"25.0mm\"\n",
       "      fill=\"#140B1C\" stroke=\"none\" />\n",
       "<rect x=\"17.5mm\" y=\"0.0mm\"\n",
       "      width=\"2.5mm\" height=\"25.0mm\"\n",
       "      fill=\"#160D21\" stroke=\"none\" />\n",
       "<rect x=\"20.0mm\" y=\"0.0mm\"\n",
       "      width=\"2.5mm\" height=\"25.0mm\"\n",
       "      fill=\"#181027\" stroke=\"none\" />\n",
       "<rect x=\"22.5mm\" y=\"0.0mm\"\n",
       "      width=\"2.5mm\" height=\"25.0mm\"\n",
       "      fill=\"#19122C\" stroke=\"none\" />\n",
       "<rect x=\"25.0mm\" y=\"0.0mm\"\n",
       "      width=\"2.5mm\" height=\"25.0mm\"\n",
       "      fill=\"#1A1530\" stroke=\"none\" />\n",
       "<rect x=\"27.5mm\" y=\"0.0mm\"\n",
       "      width=\"2.5mm\" height=\"25.0mm\"\n",
       "      fill=\"#1A1935\" stroke=\"none\" />\n",
       "<rect x=\"30.0mm\" y=\"0.0mm\"\n",
       "      width=\"2.5mm\" height=\"25.0mm\"\n",
       "      fill=\"#1B1C3A\" stroke=\"none\" />\n",
       "<rect x=\"32.5mm\" y=\"0.0mm\"\n",
       "      width=\"2.5mm\" height=\"25.0mm\"\n",
       "      fill=\"#1A203E\" stroke=\"none\" />\n",
       "<rect x=\"35.0mm\" y=\"0.0mm\"\n",
       "      width=\"2.5mm\" height=\"25.0mm\"\n",
       "      fill=\"#1A2441\" stroke=\"none\" />\n",
       "<rect x=\"37.5mm\" y=\"0.0mm\"\n",
       "      width=\"2.5mm\" height=\"25.0mm\"\n",
       "      fill=\"#1A2845\" stroke=\"none\" />\n",
       "<rect x=\"40.0mm\" y=\"0.0mm\"\n",
       "      width=\"2.5mm\" height=\"25.0mm\"\n",
       "      fill=\"#192C48\" stroke=\"none\" />\n",
       "<rect x=\"42.5mm\" y=\"0.0mm\"\n",
       "      width=\"2.5mm\" height=\"25.0mm\"\n",
       "      fill=\"#18304A\" stroke=\"none\" />\n",
       "<rect x=\"45.0mm\" y=\"0.0mm\"\n",
       "      width=\"2.5mm\" height=\"25.0mm\"\n",
       "      fill=\"#17354C\" stroke=\"none\" />\n",
       "<rect x=\"47.5mm\" y=\"0.0mm\"\n",
       "      width=\"2.5mm\" height=\"25.0mm\"\n",
       "      fill=\"#16394D\" stroke=\"none\" />\n",
       "<rect x=\"50.0mm\" y=\"0.0mm\"\n",
       "      width=\"2.5mm\" height=\"25.0mm\"\n",
       "      fill=\"#163E4E\" stroke=\"none\" />\n",
       "<rect x=\"52.5mm\" y=\"0.0mm\"\n",
       "      width=\"2.5mm\" height=\"25.0mm\"\n",
       "      fill=\"#15424E\" stroke=\"none\" />\n",
       "<rect x=\"55.0mm\" y=\"0.0mm\"\n",
       "      width=\"2.5mm\" height=\"25.0mm\"\n",
       "      fill=\"#15474E\" stroke=\"none\" />\n",
       "<rect x=\"57.5mm\" y=\"0.0mm\"\n",
       "      width=\"2.5mm\" height=\"25.0mm\"\n",
       "      fill=\"#154B4E\" stroke=\"none\" />\n",
       "<rect x=\"60.0mm\" y=\"0.0mm\"\n",
       "      width=\"2.5mm\" height=\"25.0mm\"\n",
       "      fill=\"#15504D\" stroke=\"none\" />\n",
       "<rect x=\"62.5mm\" y=\"0.0mm\"\n",
       "      width=\"2.5mm\" height=\"25.0mm\"\n",
       "      fill=\"#16544C\" stroke=\"none\" />\n",
       "<rect x=\"65.0mm\" y=\"0.0mm\"\n",
       "      width=\"2.5mm\" height=\"25.0mm\"\n",
       "      fill=\"#17584A\" stroke=\"none\" />\n",
       "<rect x=\"67.5mm\" y=\"0.0mm\"\n",
       "      width=\"2.5mm\" height=\"25.0mm\"\n",
       "      fill=\"#185C48\" stroke=\"none\" />\n",
       "<rect x=\"70.0mm\" y=\"0.0mm\"\n",
       "      width=\"2.5mm\" height=\"25.0mm\"\n",
       "      fill=\"#1A6046\" stroke=\"none\" />\n",
       "<rect x=\"72.5mm\" y=\"0.0mm\"\n",
       "      width=\"2.5mm\" height=\"25.0mm\"\n",
       "      fill=\"#1D6343\" stroke=\"none\" />\n",
       "<rect x=\"75.0mm\" y=\"0.0mm\"\n",
       "      width=\"2.5mm\" height=\"25.0mm\"\n",
       "      fill=\"#206741\" stroke=\"none\" />\n",
       "<rect x=\"77.5mm\" y=\"0.0mm\"\n",
       "      width=\"2.5mm\" height=\"25.0mm\"\n",
       "      fill=\"#236A3E\" stroke=\"none\" />\n",
       "<rect x=\"80.0mm\" y=\"0.0mm\"\n",
       "      width=\"2.5mm\" height=\"25.0mm\"\n",
       "      fill=\"#276D3C\" stroke=\"none\" />\n",
       "<rect x=\"82.5mm\" y=\"0.0mm\"\n",
       "      width=\"2.5mm\" height=\"25.0mm\"\n",
       "      fill=\"#2B6F39\" stroke=\"none\" />\n",
       "<rect x=\"85.0mm\" y=\"0.0mm\"\n",
       "      width=\"2.5mm\" height=\"25.0mm\"\n",
       "      fill=\"#307237\" stroke=\"none\" />\n",
       "<rect x=\"87.5mm\" y=\"0.0mm\"\n",
       "      width=\"2.5mm\" height=\"25.0mm\"\n",
       "      fill=\"#367435\" stroke=\"none\" />\n",
       "<rect x=\"90.0mm\" y=\"0.0mm\"\n",
       "      width=\"2.5mm\" height=\"25.0mm\"\n",
       "      fill=\"#3C7533\" stroke=\"none\" />\n",
       "<rect x=\"92.5mm\" y=\"0.0mm\"\n",
       "      width=\"2.5mm\" height=\"25.0mm\"\n",
       "      fill=\"#427731\" stroke=\"none\" />\n",
       "<rect x=\"95.0mm\" y=\"0.0mm\"\n",
       "      width=\"2.5mm\" height=\"25.0mm\"\n",
       "      fill=\"#497830\" stroke=\"none\" />\n",
       "<rect x=\"97.5mm\" y=\"0.0mm\"\n",
       "      width=\"2.5mm\" height=\"25.0mm\"\n",
       "      fill=\"#50792F\" stroke=\"none\" />\n",
       "<rect x=\"100.0mm\" y=\"0.0mm\"\n",
       "      width=\"2.5mm\" height=\"25.0mm\"\n",
       "      fill=\"#577A2F\" stroke=\"none\" />\n",
       "<rect x=\"102.5mm\" y=\"0.0mm\"\n",
       "      width=\"2.5mm\" height=\"25.0mm\"\n",
       "      fill=\"#5E7A2F\" stroke=\"none\" />\n",
       "<rect x=\"105.0mm\" y=\"0.0mm\"\n",
       "      width=\"2.5mm\" height=\"25.0mm\"\n",
       "      fill=\"#667A30\" stroke=\"none\" />\n",
       "<rect x=\"107.5mm\" y=\"0.0mm\"\n",
       "      width=\"2.5mm\" height=\"25.0mm\"\n",
       "      fill=\"#6E7B31\" stroke=\"none\" />\n",
       "<rect x=\"110.0mm\" y=\"0.0mm\"\n",
       "      width=\"2.5mm\" height=\"25.0mm\"\n",
       "      fill=\"#767B33\" stroke=\"none\" />\n",
       "<rect x=\"112.5mm\" y=\"0.0mm\"\n",
       "      width=\"2.5mm\" height=\"25.0mm\"\n",
       "      fill=\"#7E7A36\" stroke=\"none\" />\n",
       "<rect x=\"115.0mm\" y=\"0.0mm\"\n",
       "      width=\"2.5mm\" height=\"25.0mm\"\n",
       "      fill=\"#867A39\" stroke=\"none\" />\n",
       "<rect x=\"117.5mm\" y=\"0.0mm\"\n",
       "      width=\"2.5mm\" height=\"25.0mm\"\n",
       "      fill=\"#8E7A3D\" stroke=\"none\" />\n",
       "<rect x=\"120.0mm\" y=\"0.0mm\"\n",
       "      width=\"2.5mm\" height=\"25.0mm\"\n",
       "      fill=\"#957A41\" stroke=\"none\" />\n",
       "<rect x=\"122.5mm\" y=\"0.0mm\"\n",
       "      width=\"2.5mm\" height=\"25.0mm\"\n",
       "      fill=\"#9C7946\" stroke=\"none\" />\n",
       "<rect x=\"125.0mm\" y=\"0.0mm\"\n",
       "      width=\"2.5mm\" height=\"25.0mm\"\n",
       "      fill=\"#A3794C\" stroke=\"none\" />\n",
       "<rect x=\"127.5mm\" y=\"0.0mm\"\n",
       "      width=\"2.5mm\" height=\"25.0mm\"\n",
       "      fill=\"#AA7952\" stroke=\"none\" />\n",
       "<rect x=\"130.0mm\" y=\"0.0mm\"\n",
       "      width=\"2.5mm\" height=\"25.0mm\"\n",
       "      fill=\"#B07959\" stroke=\"none\" />\n",
       "<rect x=\"132.5mm\" y=\"0.0mm\"\n",
       "      width=\"2.5mm\" height=\"25.0mm\"\n",
       "      fill=\"#B67960\" stroke=\"none\" />\n",
       "<rect x=\"135.0mm\" y=\"0.0mm\"\n",
       "      width=\"2.5mm\" height=\"25.0mm\"\n",
       "      fill=\"#BC7967\" stroke=\"none\" />\n",
       "<rect x=\"137.5mm\" y=\"0.0mm\"\n",
       "      width=\"2.5mm\" height=\"25.0mm\"\n",
       "      fill=\"#C17A6F\" stroke=\"none\" />\n",
       "<rect x=\"140.0mm\" y=\"0.0mm\"\n",
       "      width=\"2.5mm\" height=\"25.0mm\"\n",
       "      fill=\"#C57A77\" stroke=\"none\" />\n",
       "<rect x=\"142.5mm\" y=\"0.0mm\"\n",
       "      width=\"2.5mm\" height=\"25.0mm\"\n",
       "      fill=\"#C97B7F\" stroke=\"none\" />\n",
       "<rect x=\"145.0mm\" y=\"0.0mm\"\n",
       "      width=\"2.5mm\" height=\"25.0mm\"\n",
       "      fill=\"#CC7C87\" stroke=\"none\" />\n",
       "<rect x=\"147.5mm\" y=\"0.0mm\"\n",
       "      width=\"2.5mm\" height=\"25.0mm\"\n",
       "      fill=\"#CF7E8F\" stroke=\"none\" />\n",
       "<rect x=\"150.0mm\" y=\"0.0mm\"\n",
       "      width=\"2.5mm\" height=\"25.0mm\"\n",
       "      fill=\"#D17F98\" stroke=\"none\" />\n",
       "<rect x=\"152.5mm\" y=\"0.0mm\"\n",
       "      width=\"2.5mm\" height=\"25.0mm\"\n",
       "      fill=\"#D381A0\" stroke=\"none\" />\n",
       "<rect x=\"155.0mm\" y=\"0.0mm\"\n",
       "      width=\"2.5mm\" height=\"25.0mm\"\n",
       "      fill=\"#D484A8\" stroke=\"none\" />\n",
       "<rect x=\"157.5mm\" y=\"0.0mm\"\n",
       "      width=\"2.5mm\" height=\"25.0mm\"\n",
       "      fill=\"#D486B0\" stroke=\"none\" />\n",
       "<rect x=\"160.0mm\" y=\"0.0mm\"\n",
       "      width=\"2.5mm\" height=\"25.0mm\"\n",
       "      fill=\"#D589B8\" stroke=\"none\" />\n",
       "<rect x=\"162.5mm\" y=\"0.0mm\"\n",
       "      width=\"2.5mm\" height=\"25.0mm\"\n",
       "      fill=\"#D48CBF\" stroke=\"none\" />\n",
       "<rect x=\"165.0mm\" y=\"0.0mm\"\n",
       "      width=\"2.5mm\" height=\"25.0mm\"\n",
       "      fill=\"#D490C6\" stroke=\"none\" />\n",
       "<rect x=\"167.5mm\" y=\"0.0mm\"\n",
       "      width=\"2.5mm\" height=\"25.0mm\"\n",
       "      fill=\"#D393CC\" stroke=\"none\" />\n",
       "<rect x=\"170.0mm\" y=\"0.0mm\"\n",
       "      width=\"2.5mm\" height=\"25.0mm\"\n",
       "      fill=\"#D197D3\" stroke=\"none\" />\n",
       "<rect x=\"172.5mm\" y=\"0.0mm\"\n",
       "      width=\"2.5mm\" height=\"25.0mm\"\n",
       "      fill=\"#D09BD8\" stroke=\"none\" />\n",
       "<rect x=\"175.0mm\" y=\"0.0mm\"\n",
       "      width=\"2.5mm\" height=\"25.0mm\"\n",
       "      fill=\"#CE9FDD\" stroke=\"none\" />\n",
       "<rect x=\"177.5mm\" y=\"0.0mm\"\n",
       "      width=\"2.5mm\" height=\"25.0mm\"\n",
       "      fill=\"#CDA4E2\" stroke=\"none\" />\n",
       "<rect x=\"180.0mm\" y=\"0.0mm\"\n",
       "      width=\"2.5mm\" height=\"25.0mm\"\n",
       "      fill=\"#CBA8E6\" stroke=\"none\" />\n",
       "<rect x=\"182.5mm\" y=\"0.0mm\"\n",
       "      width=\"2.5mm\" height=\"25.0mm\"\n",
       "      fill=\"#C9ADE9\" stroke=\"none\" />\n",
       "<rect x=\"185.0mm\" y=\"0.0mm\"\n",
       "      width=\"2.5mm\" height=\"25.0mm\"\n",
       "      fill=\"#C7B2EC\" stroke=\"none\" />\n",
       "<rect x=\"187.5mm\" y=\"0.0mm\"\n",
       "      width=\"2.5mm\" height=\"25.0mm\"\n",
       "      fill=\"#C6B6EF\" stroke=\"none\" />\n",
       "<rect x=\"190.0mm\" y=\"0.0mm\"\n",
       "      width=\"2.5mm\" height=\"25.0mm\"\n",
       "      fill=\"#C4BBF0\" stroke=\"none\" />\n",
       "<rect x=\"192.5mm\" y=\"0.0mm\"\n",
       "      width=\"2.5mm\" height=\"25.0mm\"\n",
       "      fill=\"#C3C0F2\" stroke=\"none\" />\n",
       "<rect x=\"195.0mm\" y=\"0.0mm\"\n",
       "      width=\"2.5mm\" height=\"25.0mm\"\n",
       "      fill=\"#C2C5F3\" stroke=\"none\" />\n",
       "<rect x=\"197.5mm\" y=\"0.0mm\"\n",
       "      width=\"2.5mm\" height=\"25.0mm\"\n",
       "      fill=\"#C2C9F3\" stroke=\"none\" />\n",
       "<rect x=\"200.0mm\" y=\"0.0mm\"\n",
       "      width=\"2.5mm\" height=\"25.0mm\"\n",
       "      fill=\"#C1CEF3\" stroke=\"none\" />\n",
       "<rect x=\"202.5mm\" y=\"0.0mm\"\n",
       "      width=\"2.5mm\" height=\"25.0mm\"\n",
       "      fill=\"#C1D2F3\" stroke=\"none\" />\n",
       "<rect x=\"205.0mm\" y=\"0.0mm\"\n",
       "      width=\"2.5mm\" height=\"25.0mm\"\n",
       "      fill=\"#C2D6F3\" stroke=\"none\" />\n",
       "<rect x=\"207.5mm\" y=\"0.0mm\"\n",
       "      width=\"2.5mm\" height=\"25.0mm\"\n",
       "      fill=\"#C3DAF2\" stroke=\"none\" />\n",
       "<rect x=\"210.0mm\" y=\"0.0mm\"\n",
       "      width=\"2.5mm\" height=\"25.0mm\"\n",
       "      fill=\"#C4DEF2\" stroke=\"none\" />\n",
       "<rect x=\"212.5mm\" y=\"0.0mm\"\n",
       "      width=\"2.5mm\" height=\"25.0mm\"\n",
       "      fill=\"#C6E1F1\" stroke=\"none\" />\n",
       "<rect x=\"215.0mm\" y=\"0.0mm\"\n",
       "      width=\"2.5mm\" height=\"25.0mm\"\n",
       "      fill=\"#C9E5F0\" stroke=\"none\" />\n",
       "<rect x=\"217.5mm\" y=\"0.0mm\"\n",
       "      width=\"2.5mm\" height=\"25.0mm\"\n",
       "      fill=\"#CBE8F0\" stroke=\"none\" />\n",
       "<rect x=\"220.0mm\" y=\"0.0mm\"\n",
       "      width=\"2.5mm\" height=\"25.0mm\"\n",
       "      fill=\"#CEEBEF\" stroke=\"none\" />\n",
       "<rect x=\"222.5mm\" y=\"0.0mm\"\n",
       "      width=\"2.5mm\" height=\"25.0mm\"\n",
       "      fill=\"#D2EDEF\" stroke=\"none\" />\n",
       "<rect x=\"225.0mm\" y=\"0.0mm\"\n",
       "      width=\"2.5mm\" height=\"25.0mm\"\n",
       "      fill=\"#D6F0EF\" stroke=\"none\" />\n",
       "<rect x=\"227.5mm\" y=\"0.0mm\"\n",
       "      width=\"2.5mm\" height=\"25.0mm\"\n",
       "      fill=\"#DAF2EF\" stroke=\"none\" />\n",
       "<rect x=\"230.0mm\" y=\"0.0mm\"\n",
       "      width=\"2.5mm\" height=\"25.0mm\"\n",
       "      fill=\"#DEF4EF\" stroke=\"none\" />\n",
       "<rect x=\"232.5mm\" y=\"0.0mm\"\n",
       "      width=\"2.5mm\" height=\"25.0mm\"\n",
       "      fill=\"#E3F6F0\" stroke=\"none\" />\n",
       "<rect x=\"235.0mm\" y=\"0.0mm\"\n",
       "      width=\"2.5mm\" height=\"25.0mm\"\n",
       "      fill=\"#E7F8F2\" stroke=\"none\" />\n",
       "<rect x=\"237.5mm\" y=\"0.0mm\"\n",
       "      width=\"2.5mm\" height=\"25.0mm\"\n",
       "      fill=\"#ECF9F3\" stroke=\"none\" />\n",
       "<rect x=\"240.0mm\" y=\"0.0mm\"\n",
       "      width=\"2.5mm\" height=\"25.0mm\"\n",
       "      fill=\"#F1FBF6\" stroke=\"none\" />\n",
       "<rect x=\"242.5mm\" y=\"0.0mm\"\n",
       "      width=\"2.5mm\" height=\"25.0mm\"\n",
       "      fill=\"#F6FCF8\" stroke=\"none\" />\n",
       "<rect x=\"245.0mm\" y=\"0.0mm\"\n",
       "      width=\"2.5mm\" height=\"25.0mm\"\n",
       "      fill=\"#FAFEFB\" stroke=\"none\" />\n",
       "<rect x=\"247.5mm\" y=\"0.0mm\"\n",
       "      width=\"2.5mm\" height=\"25.0mm\"\n",
       "      fill=\"#FFFFFF\" stroke=\"none\" />\n",
       "</svg>"
      ],
      "text/plain": [
       "100-element Array{ColorTypes.RGB{T<:Union{AbstractFloat,FixedPointNumbers.FixedPoint{T<:Integer,f}}},1}:\n",
       " RGB{Float64}(0.0,0.0,0.0)                   \n",
       " RGB{Float64}(0.0169303,0.00556178,0.0158225)\n",
       " RGB{Float64}(0.0325733,0.0115276,0.0329889) \n",
       " RGB{Float64}(0.0467981,0.0180044,0.051282)  \n",
       " RGB{Float64}(0.0595033,0.0250874,0.0704682) \n",
       " RGB{Float64}(0.0706175,0.0328589,0.0903009) \n",
       " RGB{Float64}(0.0801006,0.0413867,0.110525)  \n",
       " RGB{Float64}(0.087943,0.050724,0.130883)    \n",
       " RGB{Float64}(0.094166,0.0609083,0.151113)   \n",
       " RGB{Float64}(0.098821,0.071961,0.170962)    \n",
       " RGB{Float64}(0.101987,0.0838878,0.190183)   \n",
       " RGB{Float64}(0.103772,0.096678,0.20854)     \n",
       " RGB{Float64}(0.104307,0.110306,0.225815)    \n",
       " ⋮                                           \n",
       " RGB{Float64}(0.808976,0.92044,0.937603)     \n",
       " RGB{Float64}(0.822558,0.930916,0.936202)    \n",
       " RGB{Float64}(0.837466,0.940539,0.935756)    \n",
       " RGB{Float64}(0.853547,0.94935,0.936467)     \n",
       " RGB{Float64}(0.870624,0.957405,0.938518)    \n",
       " RGB{Float64}(0.888501,0.964773,0.942066)    \n",
       " RGB{Float64}(0.906967,0.971539,0.947244)    \n",
       " RGB{Float64}(0.925797,0.977796,0.954153)    \n",
       " RGB{Float64}(0.944757,0.983652,0.962863)    \n",
       " RGB{Float64}(0.963605,0.989222,0.973412)    \n",
       " RGB{Float64}(0.9821,0.994628,0.985801)      \n",
       " RGB{Float64}(1.0,1.0,1.0)                   "
      ]
     },
     "execution_count": 2,
     "metadata": {},
     "output_type": "execute_result"
    }
   ],
   "source": [
    "function cubehelix(λ::Real, s=0.5, r=-1.5, h=1.0, γ=1.0)\n",
    "    const A = [-0.14861 +1.78277; -0.29227 -0.90649; +1.97294 0]\n",
    "    φ = 2π*(s/3 + r*λ)\n",
    "    a = h*λ^γ * (1 - λ^γ) / 2 \n",
    "    rgb = λ^γ + a * A * [cos(φ); sin(φ)]\n",
    "    RGB(rgb...)\n",
    "end\n",
    "\n",
    "function cubehelix(N::Integer; s=0.5, r=-1.5, h=1.0, γ=1.0)\n",
    "    [cubehelix(λ,s,r,h,γ) for λ in linspace(0.0,1.0,N)]\n",
    "end\n",
    "\n",
    "cubehelix(100)"
   ]
  },
  {
   "cell_type": "code",
   "execution_count": 3,
   "metadata": {
    "collapsed": false
   },
   "outputs": [
    {
     "data": {
      "text/html": [],
      "text/plain": [
       "Interact.Slider{Int64}(Signal{Int64}(100, nactions=0),\"N\",100,2:200,\"d\",true)"
      ]
     },
     "metadata": {},
     "output_type": "display_data"
    },
    {
     "data": {
      "text/html": [],
      "text/plain": [
       "Interact.Slider{Float64}(Signal{Float64}(0.5, nactions=0),\"s\",0.5,-1.0:0.1:1.0,\".3f\",true)"
      ]
     },
     "metadata": {},
     "output_type": "display_data"
    },
    {
     "data": {
      "text/html": [],
      "text/plain": [
       "Interact.Slider{Float64}(Signal{Float64}(-1.5, nactions=0),\"r\",-1.5,-5.0:0.1:5.0,\".3f\",true)"
      ]
     },
     "metadata": {},
     "output_type": "display_data"
    },
    {
     "data": {
      "text/html": [],
      "text/plain": [
       "Interact.Slider{Float64}(Signal{Float64}(1.0, nactions=0),\"h\",1.0,0.0:0.1:4.0,\".3f\",true)"
      ]
     },
     "metadata": {},
     "output_type": "display_data"
    },
    {
     "data": {
      "text/html": [],
      "text/plain": [
       "Interact.Slider{Float64}(Signal{Float64}(1.0, nactions=0),\"γ\",1.0,0.0:0.1:2.2,\".3f\",true)"
      ]
     },
     "metadata": {},
     "output_type": "display_data"
    },
    {
     "data": {
      "image/svg+xml": [
       "<?xml version=\"1.0\" encoding=\"UTF-8\"?>\n",
       "<!DOCTYPE svg PUBLIC \"-//W3C//DTD SVG 1.1//EN\"\n",
       " \"http://www.w3.org/Graphics/SVG/1.1/DTD/svg11.dtd\">\n",
       "<svg xmlns=\"http://www.w3.org/2000/svg\" version=\"1.1\"\n",
       "     width=\"250.0mm\" height=\"25.0mm\"\n",
       "     shape-rendering=\"crispEdges\">\n",
       "<rect x=\"0.0mm\" y=\"0.0mm\"\n",
       "      width=\"2.5mm\" height=\"25.0mm\"\n",
       "      fill=\"#000000\" stroke=\"none\" />\n",
       "<rect x=\"2.5mm\" y=\"0.0mm\"\n",
       "      width=\"2.5mm\" height=\"25.0mm\"\n",
       "      fill=\"#040104\" stroke=\"none\" />\n",
       "<rect x=\"5.0mm\" y=\"0.0mm\"\n",
       "      width=\"2.5mm\" height=\"25.0mm\"\n",
       "      fill=\"#080308\" stroke=\"none\" />\n",
       "<rect x=\"7.5mm\" y=\"0.0mm\"\n",
       "      width=\"2.5mm\" height=\"25.0mm\"\n",
       "      fill=\"#0C050D\" stroke=\"none\" />\n",
       "<rect x=\"10.0mm\" y=\"0.0mm\"\n",
       "      width=\"2.5mm\" height=\"25.0mm\"\n",
       "      fill=\"#0F0612\" stroke=\"none\" />\n",
       "<rect x=\"12.5mm\" y=\"0.0mm\"\n",
       "      width=\"2.5mm\" height=\"25.0mm\"\n",
       "      fill=\"#120817\" stroke=\"none\" />\n",
       "<rect x=\"15.0mm\" y=\"0.0mm\"\n",
       "      width=\"2.5mm\" height=\"25.0mm\"\n",
       "      fill=\"#140B1C\" stroke=\"none\" />\n",
       "<rect x=\"17.5mm\" y=\"0.0mm\"\n",
       "      width=\"2.5mm\" height=\"25.0mm\"\n",
       "      fill=\"#160D21\" stroke=\"none\" />\n",
       "<rect x=\"20.0mm\" y=\"0.0mm\"\n",
       "      width=\"2.5mm\" height=\"25.0mm\"\n",
       "      fill=\"#181027\" stroke=\"none\" />\n",
       "<rect x=\"22.5mm\" y=\"0.0mm\"\n",
       "      width=\"2.5mm\" height=\"25.0mm\"\n",
       "      fill=\"#19122C\" stroke=\"none\" />\n",
       "<rect x=\"25.0mm\" y=\"0.0mm\"\n",
       "      width=\"2.5mm\" height=\"25.0mm\"\n",
       "      fill=\"#1A1530\" stroke=\"none\" />\n",
       "<rect x=\"27.5mm\" y=\"0.0mm\"\n",
       "      width=\"2.5mm\" height=\"25.0mm\"\n",
       "      fill=\"#1A1935\" stroke=\"none\" />\n",
       "<rect x=\"30.0mm\" y=\"0.0mm\"\n",
       "      width=\"2.5mm\" height=\"25.0mm\"\n",
       "      fill=\"#1B1C3A\" stroke=\"none\" />\n",
       "<rect x=\"32.5mm\" y=\"0.0mm\"\n",
       "      width=\"2.5mm\" height=\"25.0mm\"\n",
       "      fill=\"#1A203E\" stroke=\"none\" />\n",
       "<rect x=\"35.0mm\" y=\"0.0mm\"\n",
       "      width=\"2.5mm\" height=\"25.0mm\"\n",
       "      fill=\"#1A2441\" stroke=\"none\" />\n",
       "<rect x=\"37.5mm\" y=\"0.0mm\"\n",
       "      width=\"2.5mm\" height=\"25.0mm\"\n",
       "      fill=\"#1A2845\" stroke=\"none\" />\n",
       "<rect x=\"40.0mm\" y=\"0.0mm\"\n",
       "      width=\"2.5mm\" height=\"25.0mm\"\n",
       "      fill=\"#192C48\" stroke=\"none\" />\n",
       "<rect x=\"42.5mm\" y=\"0.0mm\"\n",
       "      width=\"2.5mm\" height=\"25.0mm\"\n",
       "      fill=\"#18304A\" stroke=\"none\" />\n",
       "<rect x=\"45.0mm\" y=\"0.0mm\"\n",
       "      width=\"2.5mm\" height=\"25.0mm\"\n",
       "      fill=\"#17354C\" stroke=\"none\" />\n",
       "<rect x=\"47.5mm\" y=\"0.0mm\"\n",
       "      width=\"2.5mm\" height=\"25.0mm\"\n",
       "      fill=\"#16394D\" stroke=\"none\" />\n",
       "<rect x=\"50.0mm\" y=\"0.0mm\"\n",
       "      width=\"2.5mm\" height=\"25.0mm\"\n",
       "      fill=\"#163E4E\" stroke=\"none\" />\n",
       "<rect x=\"52.5mm\" y=\"0.0mm\"\n",
       "      width=\"2.5mm\" height=\"25.0mm\"\n",
       "      fill=\"#15424E\" stroke=\"none\" />\n",
       "<rect x=\"55.0mm\" y=\"0.0mm\"\n",
       "      width=\"2.5mm\" height=\"25.0mm\"\n",
       "      fill=\"#15474E\" stroke=\"none\" />\n",
       "<rect x=\"57.5mm\" y=\"0.0mm\"\n",
       "      width=\"2.5mm\" height=\"25.0mm\"\n",
       "      fill=\"#154B4E\" stroke=\"none\" />\n",
       "<rect x=\"60.0mm\" y=\"0.0mm\"\n",
       "      width=\"2.5mm\" height=\"25.0mm\"\n",
       "      fill=\"#15504D\" stroke=\"none\" />\n",
       "<rect x=\"62.5mm\" y=\"0.0mm\"\n",
       "      width=\"2.5mm\" height=\"25.0mm\"\n",
       "      fill=\"#16544C\" stroke=\"none\" />\n",
       "<rect x=\"65.0mm\" y=\"0.0mm\"\n",
       "      width=\"2.5mm\" height=\"25.0mm\"\n",
       "      fill=\"#17584A\" stroke=\"none\" />\n",
       "<rect x=\"67.5mm\" y=\"0.0mm\"\n",
       "      width=\"2.5mm\" height=\"25.0mm\"\n",
       "      fill=\"#185C48\" stroke=\"none\" />\n",
       "<rect x=\"70.0mm\" y=\"0.0mm\"\n",
       "      width=\"2.5mm\" height=\"25.0mm\"\n",
       "      fill=\"#1A6046\" stroke=\"none\" />\n",
       "<rect x=\"72.5mm\" y=\"0.0mm\"\n",
       "      width=\"2.5mm\" height=\"25.0mm\"\n",
       "      fill=\"#1D6343\" stroke=\"none\" />\n",
       "<rect x=\"75.0mm\" y=\"0.0mm\"\n",
       "      width=\"2.5mm\" height=\"25.0mm\"\n",
       "      fill=\"#206741\" stroke=\"none\" />\n",
       "<rect x=\"77.5mm\" y=\"0.0mm\"\n",
       "      width=\"2.5mm\" height=\"25.0mm\"\n",
       "      fill=\"#236A3E\" stroke=\"none\" />\n",
       "<rect x=\"80.0mm\" y=\"0.0mm\"\n",
       "      width=\"2.5mm\" height=\"25.0mm\"\n",
       "      fill=\"#276D3C\" stroke=\"none\" />\n",
       "<rect x=\"82.5mm\" y=\"0.0mm\"\n",
       "      width=\"2.5mm\" height=\"25.0mm\"\n",
       "      fill=\"#2B6F39\" stroke=\"none\" />\n",
       "<rect x=\"85.0mm\" y=\"0.0mm\"\n",
       "      width=\"2.5mm\" height=\"25.0mm\"\n",
       "      fill=\"#307237\" stroke=\"none\" />\n",
       "<rect x=\"87.5mm\" y=\"0.0mm\"\n",
       "      width=\"2.5mm\" height=\"25.0mm\"\n",
       "      fill=\"#367435\" stroke=\"none\" />\n",
       "<rect x=\"90.0mm\" y=\"0.0mm\"\n",
       "      width=\"2.5mm\" height=\"25.0mm\"\n",
       "      fill=\"#3C7533\" stroke=\"none\" />\n",
       "<rect x=\"92.5mm\" y=\"0.0mm\"\n",
       "      width=\"2.5mm\" height=\"25.0mm\"\n",
       "      fill=\"#427731\" stroke=\"none\" />\n",
       "<rect x=\"95.0mm\" y=\"0.0mm\"\n",
       "      width=\"2.5mm\" height=\"25.0mm\"\n",
       "      fill=\"#497830\" stroke=\"none\" />\n",
       "<rect x=\"97.5mm\" y=\"0.0mm\"\n",
       "      width=\"2.5mm\" height=\"25.0mm\"\n",
       "      fill=\"#50792F\" stroke=\"none\" />\n",
       "<rect x=\"100.0mm\" y=\"0.0mm\"\n",
       "      width=\"2.5mm\" height=\"25.0mm\"\n",
       "      fill=\"#577A2F\" stroke=\"none\" />\n",
       "<rect x=\"102.5mm\" y=\"0.0mm\"\n",
       "      width=\"2.5mm\" height=\"25.0mm\"\n",
       "      fill=\"#5E7A2F\" stroke=\"none\" />\n",
       "<rect x=\"105.0mm\" y=\"0.0mm\"\n",
       "      width=\"2.5mm\" height=\"25.0mm\"\n",
       "      fill=\"#667A30\" stroke=\"none\" />\n",
       "<rect x=\"107.5mm\" y=\"0.0mm\"\n",
       "      width=\"2.5mm\" height=\"25.0mm\"\n",
       "      fill=\"#6E7B31\" stroke=\"none\" />\n",
       "<rect x=\"110.0mm\" y=\"0.0mm\"\n",
       "      width=\"2.5mm\" height=\"25.0mm\"\n",
       "      fill=\"#767B33\" stroke=\"none\" />\n",
       "<rect x=\"112.5mm\" y=\"0.0mm\"\n",
       "      width=\"2.5mm\" height=\"25.0mm\"\n",
       "      fill=\"#7E7A36\" stroke=\"none\" />\n",
       "<rect x=\"115.0mm\" y=\"0.0mm\"\n",
       "      width=\"2.5mm\" height=\"25.0mm\"\n",
       "      fill=\"#867A39\" stroke=\"none\" />\n",
       "<rect x=\"117.5mm\" y=\"0.0mm\"\n",
       "      width=\"2.5mm\" height=\"25.0mm\"\n",
       "      fill=\"#8E7A3D\" stroke=\"none\" />\n",
       "<rect x=\"120.0mm\" y=\"0.0mm\"\n",
       "      width=\"2.5mm\" height=\"25.0mm\"\n",
       "      fill=\"#957A41\" stroke=\"none\" />\n",
       "<rect x=\"122.5mm\" y=\"0.0mm\"\n",
       "      width=\"2.5mm\" height=\"25.0mm\"\n",
       "      fill=\"#9C7946\" stroke=\"none\" />\n",
       "<rect x=\"125.0mm\" y=\"0.0mm\"\n",
       "      width=\"2.5mm\" height=\"25.0mm\"\n",
       "      fill=\"#A3794C\" stroke=\"none\" />\n",
       "<rect x=\"127.5mm\" y=\"0.0mm\"\n",
       "      width=\"2.5mm\" height=\"25.0mm\"\n",
       "      fill=\"#AA7952\" stroke=\"none\" />\n",
       "<rect x=\"130.0mm\" y=\"0.0mm\"\n",
       "      width=\"2.5mm\" height=\"25.0mm\"\n",
       "      fill=\"#B07959\" stroke=\"none\" />\n",
       "<rect x=\"132.5mm\" y=\"0.0mm\"\n",
       "      width=\"2.5mm\" height=\"25.0mm\"\n",
       "      fill=\"#B67960\" stroke=\"none\" />\n",
       "<rect x=\"135.0mm\" y=\"0.0mm\"\n",
       "      width=\"2.5mm\" height=\"25.0mm\"\n",
       "      fill=\"#BC7967\" stroke=\"none\" />\n",
       "<rect x=\"137.5mm\" y=\"0.0mm\"\n",
       "      width=\"2.5mm\" height=\"25.0mm\"\n",
       "      fill=\"#C17A6F\" stroke=\"none\" />\n",
       "<rect x=\"140.0mm\" y=\"0.0mm\"\n",
       "      width=\"2.5mm\" height=\"25.0mm\"\n",
       "      fill=\"#C57A77\" stroke=\"none\" />\n",
       "<rect x=\"142.5mm\" y=\"0.0mm\"\n",
       "      width=\"2.5mm\" height=\"25.0mm\"\n",
       "      fill=\"#C97B7F\" stroke=\"none\" />\n",
       "<rect x=\"145.0mm\" y=\"0.0mm\"\n",
       "      width=\"2.5mm\" height=\"25.0mm\"\n",
       "      fill=\"#CC7C87\" stroke=\"none\" />\n",
       "<rect x=\"147.5mm\" y=\"0.0mm\"\n",
       "      width=\"2.5mm\" height=\"25.0mm\"\n",
       "      fill=\"#CF7E8F\" stroke=\"none\" />\n",
       "<rect x=\"150.0mm\" y=\"0.0mm\"\n",
       "      width=\"2.5mm\" height=\"25.0mm\"\n",
       "      fill=\"#D17F98\" stroke=\"none\" />\n",
       "<rect x=\"152.5mm\" y=\"0.0mm\"\n",
       "      width=\"2.5mm\" height=\"25.0mm\"\n",
       "      fill=\"#D381A0\" stroke=\"none\" />\n",
       "<rect x=\"155.0mm\" y=\"0.0mm\"\n",
       "      width=\"2.5mm\" height=\"25.0mm\"\n",
       "      fill=\"#D484A8\" stroke=\"none\" />\n",
       "<rect x=\"157.5mm\" y=\"0.0mm\"\n",
       "      width=\"2.5mm\" height=\"25.0mm\"\n",
       "      fill=\"#D486B0\" stroke=\"none\" />\n",
       "<rect x=\"160.0mm\" y=\"0.0mm\"\n",
       "      width=\"2.5mm\" height=\"25.0mm\"\n",
       "      fill=\"#D589B8\" stroke=\"none\" />\n",
       "<rect x=\"162.5mm\" y=\"0.0mm\"\n",
       "      width=\"2.5mm\" height=\"25.0mm\"\n",
       "      fill=\"#D48CBF\" stroke=\"none\" />\n",
       "<rect x=\"165.0mm\" y=\"0.0mm\"\n",
       "      width=\"2.5mm\" height=\"25.0mm\"\n",
       "      fill=\"#D490C6\" stroke=\"none\" />\n",
       "<rect x=\"167.5mm\" y=\"0.0mm\"\n",
       "      width=\"2.5mm\" height=\"25.0mm\"\n",
       "      fill=\"#D393CC\" stroke=\"none\" />\n",
       "<rect x=\"170.0mm\" y=\"0.0mm\"\n",
       "      width=\"2.5mm\" height=\"25.0mm\"\n",
       "      fill=\"#D197D3\" stroke=\"none\" />\n",
       "<rect x=\"172.5mm\" y=\"0.0mm\"\n",
       "      width=\"2.5mm\" height=\"25.0mm\"\n",
       "      fill=\"#D09BD8\" stroke=\"none\" />\n",
       "<rect x=\"175.0mm\" y=\"0.0mm\"\n",
       "      width=\"2.5mm\" height=\"25.0mm\"\n",
       "      fill=\"#CE9FDD\" stroke=\"none\" />\n",
       "<rect x=\"177.5mm\" y=\"0.0mm\"\n",
       "      width=\"2.5mm\" height=\"25.0mm\"\n",
       "      fill=\"#CDA4E2\" stroke=\"none\" />\n",
       "<rect x=\"180.0mm\" y=\"0.0mm\"\n",
       "      width=\"2.5mm\" height=\"25.0mm\"\n",
       "      fill=\"#CBA8E6\" stroke=\"none\" />\n",
       "<rect x=\"182.5mm\" y=\"0.0mm\"\n",
       "      width=\"2.5mm\" height=\"25.0mm\"\n",
       "      fill=\"#C9ADE9\" stroke=\"none\" />\n",
       "<rect x=\"185.0mm\" y=\"0.0mm\"\n",
       "      width=\"2.5mm\" height=\"25.0mm\"\n",
       "      fill=\"#C7B2EC\" stroke=\"none\" />\n",
       "<rect x=\"187.5mm\" y=\"0.0mm\"\n",
       "      width=\"2.5mm\" height=\"25.0mm\"\n",
       "      fill=\"#C6B6EF\" stroke=\"none\" />\n",
       "<rect x=\"190.0mm\" y=\"0.0mm\"\n",
       "      width=\"2.5mm\" height=\"25.0mm\"\n",
       "      fill=\"#C4BBF0\" stroke=\"none\" />\n",
       "<rect x=\"192.5mm\" y=\"0.0mm\"\n",
       "      width=\"2.5mm\" height=\"25.0mm\"\n",
       "      fill=\"#C3C0F2\" stroke=\"none\" />\n",
       "<rect x=\"195.0mm\" y=\"0.0mm\"\n",
       "      width=\"2.5mm\" height=\"25.0mm\"\n",
       "      fill=\"#C2C5F3\" stroke=\"none\" />\n",
       "<rect x=\"197.5mm\" y=\"0.0mm\"\n",
       "      width=\"2.5mm\" height=\"25.0mm\"\n",
       "      fill=\"#C2C9F3\" stroke=\"none\" />\n",
       "<rect x=\"200.0mm\" y=\"0.0mm\"\n",
       "      width=\"2.5mm\" height=\"25.0mm\"\n",
       "      fill=\"#C1CEF3\" stroke=\"none\" />\n",
       "<rect x=\"202.5mm\" y=\"0.0mm\"\n",
       "      width=\"2.5mm\" height=\"25.0mm\"\n",
       "      fill=\"#C1D2F3\" stroke=\"none\" />\n",
       "<rect x=\"205.0mm\" y=\"0.0mm\"\n",
       "      width=\"2.5mm\" height=\"25.0mm\"\n",
       "      fill=\"#C2D6F3\" stroke=\"none\" />\n",
       "<rect x=\"207.5mm\" y=\"0.0mm\"\n",
       "      width=\"2.5mm\" height=\"25.0mm\"\n",
       "      fill=\"#C3DAF2\" stroke=\"none\" />\n",
       "<rect x=\"210.0mm\" y=\"0.0mm\"\n",
       "      width=\"2.5mm\" height=\"25.0mm\"\n",
       "      fill=\"#C4DEF2\" stroke=\"none\" />\n",
       "<rect x=\"212.5mm\" y=\"0.0mm\"\n",
       "      width=\"2.5mm\" height=\"25.0mm\"\n",
       "      fill=\"#C6E1F1\" stroke=\"none\" />\n",
       "<rect x=\"215.0mm\" y=\"0.0mm\"\n",
       "      width=\"2.5mm\" height=\"25.0mm\"\n",
       "      fill=\"#C9E5F0\" stroke=\"none\" />\n",
       "<rect x=\"217.5mm\" y=\"0.0mm\"\n",
       "      width=\"2.5mm\" height=\"25.0mm\"\n",
       "      fill=\"#CBE8F0\" stroke=\"none\" />\n",
       "<rect x=\"220.0mm\" y=\"0.0mm\"\n",
       "      width=\"2.5mm\" height=\"25.0mm\"\n",
       "      fill=\"#CEEBEF\" stroke=\"none\" />\n",
       "<rect x=\"222.5mm\" y=\"0.0mm\"\n",
       "      width=\"2.5mm\" height=\"25.0mm\"\n",
       "      fill=\"#D2EDEF\" stroke=\"none\" />\n",
       "<rect x=\"225.0mm\" y=\"0.0mm\"\n",
       "      width=\"2.5mm\" height=\"25.0mm\"\n",
       "      fill=\"#D6F0EF\" stroke=\"none\" />\n",
       "<rect x=\"227.5mm\" y=\"0.0mm\"\n",
       "      width=\"2.5mm\" height=\"25.0mm\"\n",
       "      fill=\"#DAF2EF\" stroke=\"none\" />\n",
       "<rect x=\"230.0mm\" y=\"0.0mm\"\n",
       "      width=\"2.5mm\" height=\"25.0mm\"\n",
       "      fill=\"#DEF4EF\" stroke=\"none\" />\n",
       "<rect x=\"232.5mm\" y=\"0.0mm\"\n",
       "      width=\"2.5mm\" height=\"25.0mm\"\n",
       "      fill=\"#E3F6F0\" stroke=\"none\" />\n",
       "<rect x=\"235.0mm\" y=\"0.0mm\"\n",
       "      width=\"2.5mm\" height=\"25.0mm\"\n",
       "      fill=\"#E7F8F2\" stroke=\"none\" />\n",
       "<rect x=\"237.5mm\" y=\"0.0mm\"\n",
       "      width=\"2.5mm\" height=\"25.0mm\"\n",
       "      fill=\"#ECF9F3\" stroke=\"none\" />\n",
       "<rect x=\"240.0mm\" y=\"0.0mm\"\n",
       "      width=\"2.5mm\" height=\"25.0mm\"\n",
       "      fill=\"#F1FBF6\" stroke=\"none\" />\n",
       "<rect x=\"242.5mm\" y=\"0.0mm\"\n",
       "      width=\"2.5mm\" height=\"25.0mm\"\n",
       "      fill=\"#F6FCF8\" stroke=\"none\" />\n",
       "<rect x=\"245.0mm\" y=\"0.0mm\"\n",
       "      width=\"2.5mm\" height=\"25.0mm\"\n",
       "      fill=\"#FAFEFB\" stroke=\"none\" />\n",
       "<rect x=\"247.5mm\" y=\"0.0mm\"\n",
       "      width=\"2.5mm\" height=\"25.0mm\"\n",
       "      fill=\"#FFFFFF\" stroke=\"none\" />\n",
       "</svg>"
      ],
      "text/plain": [
       "100-element Array{ColorTypes.RGB{T<:Union{AbstractFloat,FixedPointNumbers.FixedPoint{T<:Integer,f}}},1}:\n",
       " RGB{Float64}(0.0,0.0,0.0)                   \n",
       " RGB{Float64}(0.0169303,0.00556178,0.0158225)\n",
       " RGB{Float64}(0.0325733,0.0115276,0.0329889) \n",
       " RGB{Float64}(0.0467981,0.0180044,0.051282)  \n",
       " RGB{Float64}(0.0595033,0.0250874,0.0704682) \n",
       " RGB{Float64}(0.0706175,0.0328589,0.0903009) \n",
       " RGB{Float64}(0.0801006,0.0413867,0.110525)  \n",
       " RGB{Float64}(0.087943,0.050724,0.130883)    \n",
       " RGB{Float64}(0.094166,0.0609083,0.151113)   \n",
       " RGB{Float64}(0.098821,0.071961,0.170962)    \n",
       " RGB{Float64}(0.101987,0.0838878,0.190183)   \n",
       " RGB{Float64}(0.103772,0.096678,0.20854)     \n",
       " RGB{Float64}(0.104307,0.110306,0.225815)    \n",
       " ⋮                                           \n",
       " RGB{Float64}(0.808976,0.92044,0.937603)     \n",
       " RGB{Float64}(0.822558,0.930916,0.936202)    \n",
       " RGB{Float64}(0.837466,0.940539,0.935756)    \n",
       " RGB{Float64}(0.853547,0.94935,0.936467)     \n",
       " RGB{Float64}(0.870624,0.957405,0.938518)    \n",
       " RGB{Float64}(0.888501,0.964773,0.942066)    \n",
       " RGB{Float64}(0.906967,0.971539,0.947244)    \n",
       " RGB{Float64}(0.925797,0.977796,0.954153)    \n",
       " RGB{Float64}(0.944757,0.983652,0.962863)    \n",
       " RGB{Float64}(0.963605,0.989222,0.973412)    \n",
       " RGB{Float64}(0.9821,0.994628,0.985801)      \n",
       " RGB{Float64}(1.0,1.0,1.0)                   "
      ]
     },
     "execution_count": 3,
     "metadata": {
      "comm_id": "56b026fa-9e59-4a4f-9908-a2d1b7c0ca36",
      "reactive": true
     },
     "output_type": "execute_result"
    }
   ],
   "source": [
    "N = slider(2:200, value=100, label=\"N\")\n",
    "s = slider(-1:0.1:1, value=0.5, label=\"s\")\n",
    "r = slider(-5:0.1:5, value=-1.5, label=\"r\")\n",
    "h = slider(0:0.1:4, value=1.0, label=\"h\")\n",
    "γ = slider(0:0.1:2.2, value=1.0, label=\"γ\")\n",
    "map(display, [N,s,r,h,γ]);\n",
    "map((N,s,r,h,γ)->cubehelix(N,s=s,r=r,h=h,γ=γ), signal(N), signal(s), signal(r), signal(h), signal(γ))"
   ]
  }
 ],
 "metadata": {
  "kernelspec": {
   "display_name": "Julia 0.4.6",
   "language": "julia",
   "name": "julia-0.4"
  },
  "language_info": {
   "file_extension": ".jl",
   "mimetype": "application/julia",
   "name": "julia",
   "version": "0.4.6"
  },
  "widgets": {
   "state": {
    "0c308094-127a-4942-bd5e-250680934c8f": {
     "views": [
      {
       "cell_index": 2
      }
     ]
    },
    "0fa09c4b-cf67-4491-942c-19d88d73865d": {
     "views": [
      {
       "cell_index": 2
      }
     ]
    },
    "1132bf75-2222-4a77-b03d-db9790812b98": {
     "views": [
      {
       "cell_index": 2
      }
     ]
    },
    "1a4bc050-2813-4f11-8015-cfaa4d25002a": {
     "views": [
      {
       "cell_index": 2
      }
     ]
    },
    "2788e9cf-b3bf-4a20-a5db-075b737def71": {
     "views": [
      {
       "cell_index": 2
      }
     ]
    },
    "2b19bb5a-9938-466f-a91b-c5d6d4c758a9": {
     "views": [
      {
       "cell_index": 2
      }
     ]
    },
    "2d57fa51-41f4-46cd-add4-fbb9c8b07e9d": {
     "views": [
      {
       "cell_index": 2
      }
     ]
    },
    "2e103096-18f5-4e81-b325-1da223c276c4": {
     "views": [
      {
       "cell_index": 3
      }
     ]
    },
    "32468a4e-6b2f-4707-8d04-523ee523e3cf": {
     "views": [
      {
       "cell_index": 2
      }
     ]
    },
    "33ab086a-de30-40fe-ae91-5c37c3ac7b35": {
     "views": [
      {
       "cell_index": 2
      }
     ]
    },
    "3c58662b-157a-481e-b7e4-27335c6478ff": {
     "views": [
      {
       "cell_index": 2
      }
     ]
    },
    "433a00a9-4d73-4f48-b01f-4df024b3c8dc": {
     "views": [
      {
       "cell_index": 2
      }
     ]
    },
    "4a585c9e-4cca-41f0-8082-5f038013f69e": {
     "views": [
      {
       "cell_index": 2
      }
     ]
    },
    "4b55831d-39a8-4ee2-9d10-e29948645d7c": {
     "views": [
      {
       "cell_index": 2
      }
     ]
    },
    "4f1b8934-765b-46de-a02e-bb6255fcdd88": {
     "views": [
      {
       "cell_index": 3
      }
     ]
    },
    "53cd1310-b563-48ab-85bf-13af0e901f17": {
     "views": [
      {
       "cell_index": 2
      }
     ]
    },
    "7e65c01c-854a-4380-8150-56da706643fd": {
     "views": [
      {
       "cell_index": 3
      }
     ]
    },
    "85d4ecb2-b8d2-4fb3-a486-6e67799e154f": {
     "views": [
      {
       "cell_index": 2
      }
     ]
    },
    "86709ed5-895d-47d8-8d4b-1514e8c0d973": {
     "views": [
      {
       "cell_index": 3
      }
     ]
    },
    "92218783-2b34-47b1-a9f3-d7eaf3e0199e": {
     "views": [
      {
       "cell_index": 2
      }
     ]
    },
    "9f3dd1be-14e0-4ef8-829d-77a872637bc3": {
     "views": [
      {
       "cell_index": 3
      }
     ]
    },
    "a59e08dd-bb18-48ce-8cbd-67c891495706": {
     "views": [
      {
       "cell_index": 3
      }
     ]
    },
    "addb908b-365c-4668-b6d0-3f63654547d8": {
     "views": [
      {
       "cell_index": 2
      }
     ]
    },
    "b2134544-e58d-4e78-80a2-60c13ab952f3": {
     "views": [
      {
       "cell_index": 3
      }
     ]
    },
    "b3ba8d7a-1d8e-4867-aecd-a60605852a97": {
     "views": [
      {
       "cell_index": 2
      }
     ]
    },
    "c74d0658-b91a-4837-9c74-206200b00528": {
     "views": [
      {
       "cell_index": 2
      }
     ]
    },
    "c7fd7b85-af3e-4365-ba74-1cdf3d630ba9": {
     "views": [
      {
       "cell_index": 2
      }
     ]
    },
    "c937e6a3-522a-4785-97c7-3fa2e40440b6": {
     "views": [
      {
       "cell_index": 2
      }
     ]
    },
    "cdcc3ca6-e312-4155-9a2a-8df024d361ae": {
     "views": [
      {
       "cell_index": 2
      }
     ]
    },
    "ce84ddd1-6879-4e41-a0df-19de498b73f9": {
     "views": [
      {
       "cell_index": 3
      }
     ]
    },
    "d65ed7be-0339-49f4-9ed7-37f8ff97effb": {
     "views": [
      {
       "cell_index": 2
      }
     ]
    },
    "e1911b6e-2ce6-4399-b89d-b4502e7c72e1": {
     "views": [
      {
       "cell_index": 2
      }
     ]
    },
    "e4592121-3477-4236-a653-fcdfd5d17b0a": {
     "views": [
      {
       "cell_index": 2
      }
     ]
    },
    "ef010b9c-4205-43e5-b2ab-4e7a5e949638": {
     "views": [
      {
       "cell_index": 2
      }
     ]
    },
    "f5c12976-aebb-47bf-ae04-3fcb4905b7bc": {
     "views": [
      {
       "cell_index": 2
      }
     ]
    },
    "f71fa5c3-c1f1-4f35-b09b-ac771c684999": {
     "views": [
      {
       "cell_index": 3
      }
     ]
    },
    "fe1b4c3c-5243-44d7-9440-1c4f506c687c": {
     "views": [
      {
       "cell_index": 2
      }
     ]
    },
    "ffcf6b80-8c10-40c4-a32e-c67a9662364e": {
     "views": [
      {
       "cell_index": 2
      }
     ]
    }
   },
   "version": "1.2.0"
  }
 },
 "nbformat": 4,
 "nbformat_minor": 0
}
